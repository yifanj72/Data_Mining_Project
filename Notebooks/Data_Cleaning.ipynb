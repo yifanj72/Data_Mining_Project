{
 "cells": [
  {
   "cell_type": "markdown",
   "id": "81f62206",
   "metadata": {},
   "source": [
    "# Data Mining Final Project"
   ]
  },
  {
   "cell_type": "markdown",
   "id": "afb69fd0",
   "metadata": {},
   "source": [
    "## Pokemon Legendary Predictions"
   ]
  },
  {
   "cell_type": "markdown",
   "id": "8bdb50a6",
   "metadata": {},
   "source": [
    "##### The goal of this project is based on the current list of legendary Pokemon's and their statistics, can we predict other Pokemon's that are legendary as well?"
   ]
  },
  {
   "cell_type": "code",
   "execution_count": 1,
   "id": "ec00747b",
   "metadata": {},
   "outputs": [],
   "source": [
    "#Importing all required libraries\n",
    "import pandas as pd\n",
    "import matplotlib.pyplot as plt\n",
    "import seaborn as sns\n"
   ]
  },
  {
   "cell_type": "code",
   "execution_count": 2,
   "id": "50083e2d",
   "metadata": {},
   "outputs": [
    {
     "data": {
      "text/html": [
       "<div>\n",
       "<style scoped>\n",
       "    .dataframe tbody tr th:only-of-type {\n",
       "        vertical-align: middle;\n",
       "    }\n",
       "\n",
       "    .dataframe tbody tr th {\n",
       "        vertical-align: top;\n",
       "    }\n",
       "\n",
       "    .dataframe thead th {\n",
       "        text-align: right;\n",
       "    }\n",
       "</style>\n",
       "<table border=\"1\" class=\"dataframe\">\n",
       "  <thead>\n",
       "    <tr style=\"text-align: right;\">\n",
       "      <th></th>\n",
       "      <th>abilities</th>\n",
       "      <th>against_bug</th>\n",
       "      <th>against_dark</th>\n",
       "      <th>against_dragon</th>\n",
       "      <th>against_electric</th>\n",
       "      <th>against_fairy</th>\n",
       "      <th>against_fight</th>\n",
       "      <th>against_fire</th>\n",
       "      <th>against_flying</th>\n",
       "      <th>against_ghost</th>\n",
       "      <th>against_grass</th>\n",
       "      <th>against_ground</th>\n",
       "      <th>against_ice</th>\n",
       "      <th>against_normal</th>\n",
       "      <th>against_poison</th>\n",
       "      <th>against_psychic</th>\n",
       "      <th>against_rock</th>\n",
       "      <th>against_steel</th>\n",
       "      <th>against_water</th>\n",
       "      <th>attack</th>\n",
       "      <th>base_egg_steps</th>\n",
       "      <th>base_happiness</th>\n",
       "      <th>base_total</th>\n",
       "      <th>capture_rate</th>\n",
       "      <th>classfication</th>\n",
       "      <th>defense</th>\n",
       "      <th>experience_growth</th>\n",
       "      <th>height_m</th>\n",
       "      <th>hp</th>\n",
       "      <th>japanese_name</th>\n",
       "      <th>name</th>\n",
       "      <th>percentage_male</th>\n",
       "      <th>pokedex_number</th>\n",
       "      <th>sp_attack</th>\n",
       "      <th>sp_defense</th>\n",
       "      <th>speed</th>\n",
       "      <th>type1</th>\n",
       "      <th>type2</th>\n",
       "      <th>weight_kg</th>\n",
       "      <th>generation</th>\n",
       "      <th>is_legendary</th>\n",
       "    </tr>\n",
       "  </thead>\n",
       "  <tbody>\n",
       "    <tr>\n",
       "      <th>0</th>\n",
       "      <td>['Overgrow', 'Chlorophyll']</td>\n",
       "      <td>1.0</td>\n",
       "      <td>1.0</td>\n",
       "      <td>1.0</td>\n",
       "      <td>0.5</td>\n",
       "      <td>0.5</td>\n",
       "      <td>0.5</td>\n",
       "      <td>2.0</td>\n",
       "      <td>2.0</td>\n",
       "      <td>1.0</td>\n",
       "      <td>0.25</td>\n",
       "      <td>1.0</td>\n",
       "      <td>2.0</td>\n",
       "      <td>1.0</td>\n",
       "      <td>1.0</td>\n",
       "      <td>2.0</td>\n",
       "      <td>1.0</td>\n",
       "      <td>1.0</td>\n",
       "      <td>0.5</td>\n",
       "      <td>49</td>\n",
       "      <td>5120</td>\n",
       "      <td>70</td>\n",
       "      <td>318</td>\n",
       "      <td>45</td>\n",
       "      <td>Seed Pokémon</td>\n",
       "      <td>49</td>\n",
       "      <td>1059860</td>\n",
       "      <td>0.7</td>\n",
       "      <td>45</td>\n",
       "      <td>Fushigidaneフシギダネ</td>\n",
       "      <td>Bulbasaur</td>\n",
       "      <td>88.1</td>\n",
       "      <td>1</td>\n",
       "      <td>65</td>\n",
       "      <td>65</td>\n",
       "      <td>45</td>\n",
       "      <td>grass</td>\n",
       "      <td>poison</td>\n",
       "      <td>6.9</td>\n",
       "      <td>1</td>\n",
       "      <td>0</td>\n",
       "    </tr>\n",
       "    <tr>\n",
       "      <th>1</th>\n",
       "      <td>['Overgrow', 'Chlorophyll']</td>\n",
       "      <td>1.0</td>\n",
       "      <td>1.0</td>\n",
       "      <td>1.0</td>\n",
       "      <td>0.5</td>\n",
       "      <td>0.5</td>\n",
       "      <td>0.5</td>\n",
       "      <td>2.0</td>\n",
       "      <td>2.0</td>\n",
       "      <td>1.0</td>\n",
       "      <td>0.25</td>\n",
       "      <td>1.0</td>\n",
       "      <td>2.0</td>\n",
       "      <td>1.0</td>\n",
       "      <td>1.0</td>\n",
       "      <td>2.0</td>\n",
       "      <td>1.0</td>\n",
       "      <td>1.0</td>\n",
       "      <td>0.5</td>\n",
       "      <td>62</td>\n",
       "      <td>5120</td>\n",
       "      <td>70</td>\n",
       "      <td>405</td>\n",
       "      <td>45</td>\n",
       "      <td>Seed Pokémon</td>\n",
       "      <td>63</td>\n",
       "      <td>1059860</td>\n",
       "      <td>1.0</td>\n",
       "      <td>60</td>\n",
       "      <td>Fushigisouフシギソウ</td>\n",
       "      <td>Ivysaur</td>\n",
       "      <td>88.1</td>\n",
       "      <td>2</td>\n",
       "      <td>80</td>\n",
       "      <td>80</td>\n",
       "      <td>60</td>\n",
       "      <td>grass</td>\n",
       "      <td>poison</td>\n",
       "      <td>13.0</td>\n",
       "      <td>1</td>\n",
       "      <td>0</td>\n",
       "    </tr>\n",
       "    <tr>\n",
       "      <th>2</th>\n",
       "      <td>['Overgrow', 'Chlorophyll']</td>\n",
       "      <td>1.0</td>\n",
       "      <td>1.0</td>\n",
       "      <td>1.0</td>\n",
       "      <td>0.5</td>\n",
       "      <td>0.5</td>\n",
       "      <td>0.5</td>\n",
       "      <td>2.0</td>\n",
       "      <td>2.0</td>\n",
       "      <td>1.0</td>\n",
       "      <td>0.25</td>\n",
       "      <td>1.0</td>\n",
       "      <td>2.0</td>\n",
       "      <td>1.0</td>\n",
       "      <td>1.0</td>\n",
       "      <td>2.0</td>\n",
       "      <td>1.0</td>\n",
       "      <td>1.0</td>\n",
       "      <td>0.5</td>\n",
       "      <td>100</td>\n",
       "      <td>5120</td>\n",
       "      <td>70</td>\n",
       "      <td>625</td>\n",
       "      <td>45</td>\n",
       "      <td>Seed Pokémon</td>\n",
       "      <td>123</td>\n",
       "      <td>1059860</td>\n",
       "      <td>2.0</td>\n",
       "      <td>80</td>\n",
       "      <td>Fushigibanaフシギバナ</td>\n",
       "      <td>Venusaur</td>\n",
       "      <td>88.1</td>\n",
       "      <td>3</td>\n",
       "      <td>122</td>\n",
       "      <td>120</td>\n",
       "      <td>80</td>\n",
       "      <td>grass</td>\n",
       "      <td>poison</td>\n",
       "      <td>100.0</td>\n",
       "      <td>1</td>\n",
       "      <td>0</td>\n",
       "    </tr>\n",
       "    <tr>\n",
       "      <th>3</th>\n",
       "      <td>['Blaze', 'Solar Power']</td>\n",
       "      <td>0.5</td>\n",
       "      <td>1.0</td>\n",
       "      <td>1.0</td>\n",
       "      <td>1.0</td>\n",
       "      <td>0.5</td>\n",
       "      <td>1.0</td>\n",
       "      <td>0.5</td>\n",
       "      <td>1.0</td>\n",
       "      <td>1.0</td>\n",
       "      <td>0.50</td>\n",
       "      <td>2.0</td>\n",
       "      <td>0.5</td>\n",
       "      <td>1.0</td>\n",
       "      <td>1.0</td>\n",
       "      <td>1.0</td>\n",
       "      <td>2.0</td>\n",
       "      <td>0.5</td>\n",
       "      <td>2.0</td>\n",
       "      <td>52</td>\n",
       "      <td>5120</td>\n",
       "      <td>70</td>\n",
       "      <td>309</td>\n",
       "      <td>45</td>\n",
       "      <td>Lizard Pokémon</td>\n",
       "      <td>43</td>\n",
       "      <td>1059860</td>\n",
       "      <td>0.6</td>\n",
       "      <td>39</td>\n",
       "      <td>Hitokageヒトカゲ</td>\n",
       "      <td>Charmander</td>\n",
       "      <td>88.1</td>\n",
       "      <td>4</td>\n",
       "      <td>60</td>\n",
       "      <td>50</td>\n",
       "      <td>65</td>\n",
       "      <td>fire</td>\n",
       "      <td>NaN</td>\n",
       "      <td>8.5</td>\n",
       "      <td>1</td>\n",
       "      <td>0</td>\n",
       "    </tr>\n",
       "    <tr>\n",
       "      <th>4</th>\n",
       "      <td>['Blaze', 'Solar Power']</td>\n",
       "      <td>0.5</td>\n",
       "      <td>1.0</td>\n",
       "      <td>1.0</td>\n",
       "      <td>1.0</td>\n",
       "      <td>0.5</td>\n",
       "      <td>1.0</td>\n",
       "      <td>0.5</td>\n",
       "      <td>1.0</td>\n",
       "      <td>1.0</td>\n",
       "      <td>0.50</td>\n",
       "      <td>2.0</td>\n",
       "      <td>0.5</td>\n",
       "      <td>1.0</td>\n",
       "      <td>1.0</td>\n",
       "      <td>1.0</td>\n",
       "      <td>2.0</td>\n",
       "      <td>0.5</td>\n",
       "      <td>2.0</td>\n",
       "      <td>64</td>\n",
       "      <td>5120</td>\n",
       "      <td>70</td>\n",
       "      <td>405</td>\n",
       "      <td>45</td>\n",
       "      <td>Flame Pokémon</td>\n",
       "      <td>58</td>\n",
       "      <td>1059860</td>\n",
       "      <td>1.1</td>\n",
       "      <td>58</td>\n",
       "      <td>Lizardoリザード</td>\n",
       "      <td>Charmeleon</td>\n",
       "      <td>88.1</td>\n",
       "      <td>5</td>\n",
       "      <td>80</td>\n",
       "      <td>65</td>\n",
       "      <td>80</td>\n",
       "      <td>fire</td>\n",
       "      <td>NaN</td>\n",
       "      <td>19.0</td>\n",
       "      <td>1</td>\n",
       "      <td>0</td>\n",
       "    </tr>\n",
       "  </tbody>\n",
       "</table>\n",
       "</div>"
      ],
      "text/plain": [
       "                     abilities  against_bug  against_dark  against_dragon  \\\n",
       "0  ['Overgrow', 'Chlorophyll']          1.0           1.0             1.0   \n",
       "1  ['Overgrow', 'Chlorophyll']          1.0           1.0             1.0   \n",
       "2  ['Overgrow', 'Chlorophyll']          1.0           1.0             1.0   \n",
       "3     ['Blaze', 'Solar Power']          0.5           1.0             1.0   \n",
       "4     ['Blaze', 'Solar Power']          0.5           1.0             1.0   \n",
       "\n",
       "   against_electric  against_fairy  against_fight  against_fire  \\\n",
       "0               0.5            0.5            0.5           2.0   \n",
       "1               0.5            0.5            0.5           2.0   \n",
       "2               0.5            0.5            0.5           2.0   \n",
       "3               1.0            0.5            1.0           0.5   \n",
       "4               1.0            0.5            1.0           0.5   \n",
       "\n",
       "   against_flying  against_ghost  against_grass  against_ground  against_ice  \\\n",
       "0             2.0            1.0           0.25             1.0          2.0   \n",
       "1             2.0            1.0           0.25             1.0          2.0   \n",
       "2             2.0            1.0           0.25             1.0          2.0   \n",
       "3             1.0            1.0           0.50             2.0          0.5   \n",
       "4             1.0            1.0           0.50             2.0          0.5   \n",
       "\n",
       "   against_normal  against_poison  against_psychic  against_rock  \\\n",
       "0             1.0             1.0              2.0           1.0   \n",
       "1             1.0             1.0              2.0           1.0   \n",
       "2             1.0             1.0              2.0           1.0   \n",
       "3             1.0             1.0              1.0           2.0   \n",
       "4             1.0             1.0              1.0           2.0   \n",
       "\n",
       "   against_steel  against_water  attack  base_egg_steps  base_happiness  \\\n",
       "0            1.0            0.5      49            5120              70   \n",
       "1            1.0            0.5      62            5120              70   \n",
       "2            1.0            0.5     100            5120              70   \n",
       "3            0.5            2.0      52            5120              70   \n",
       "4            0.5            2.0      64            5120              70   \n",
       "\n",
       "   base_total capture_rate   classfication  defense  experience_growth  \\\n",
       "0         318           45    Seed Pokémon       49            1059860   \n",
       "1         405           45    Seed Pokémon       63            1059860   \n",
       "2         625           45    Seed Pokémon      123            1059860   \n",
       "3         309           45  Lizard Pokémon       43            1059860   \n",
       "4         405           45   Flame Pokémon       58            1059860   \n",
       "\n",
       "   height_m  hp     japanese_name        name  percentage_male  \\\n",
       "0       0.7  45  Fushigidaneフシギダネ   Bulbasaur             88.1   \n",
       "1       1.0  60   Fushigisouフシギソウ     Ivysaur             88.1   \n",
       "2       2.0  80  Fushigibanaフシギバナ    Venusaur             88.1   \n",
       "3       0.6  39      Hitokageヒトカゲ  Charmander             88.1   \n",
       "4       1.1  58       Lizardoリザード  Charmeleon             88.1   \n",
       "\n",
       "   pokedex_number  sp_attack  sp_defense  speed  type1   type2  weight_kg  \\\n",
       "0               1         65          65     45  grass  poison        6.9   \n",
       "1               2         80          80     60  grass  poison       13.0   \n",
       "2               3        122         120     80  grass  poison      100.0   \n",
       "3               4         60          50     65   fire     NaN        8.5   \n",
       "4               5         80          65     80   fire     NaN       19.0   \n",
       "\n",
       "   generation  is_legendary  \n",
       "0           1             0  \n",
       "1           1             0  \n",
       "2           1             0  \n",
       "3           1             0  \n",
       "4           1             0  "
      ]
     },
     "execution_count": 2,
     "metadata": {},
     "output_type": "execute_result"
    }
   ],
   "source": [
    "pd.set_option('display.max_columns', None)\n",
    "df = pd.read_csv('pokemon.csv')\n",
    "df.head()"
   ]
  },
  {
   "cell_type": "code",
   "execution_count": 3,
   "id": "a9fbcd84",
   "metadata": {},
   "outputs": [
    {
     "data": {
      "text/plain": [
       "array([1, 2, 3, 4, 5, 6, 7])"
      ]
     },
     "execution_count": 3,
     "metadata": {},
     "output_type": "execute_result"
    }
   ],
   "source": [
    "df.generation.unique()"
   ]
  },
  {
   "cell_type": "code",
   "execution_count": 4,
   "id": "4b3fd4f1",
   "metadata": {
    "scrolled": true
   },
   "outputs": [],
   "source": [
    "Ivysaur = df[df['name']=='Ivysaur']"
   ]
  },
  {
   "cell_type": "code",
   "execution_count": 5,
   "id": "0ca39f85",
   "metadata": {},
   "outputs": [
    {
     "data": {
      "text/html": [
       "<div>\n",
       "<style scoped>\n",
       "    .dataframe tbody tr th:only-of-type {\n",
       "        vertical-align: middle;\n",
       "    }\n",
       "\n",
       "    .dataframe tbody tr th {\n",
       "        vertical-align: top;\n",
       "    }\n",
       "\n",
       "    .dataframe thead th {\n",
       "        text-align: right;\n",
       "    }\n",
       "</style>\n",
       "<table border=\"1\" class=\"dataframe\">\n",
       "  <thead>\n",
       "    <tr style=\"text-align: right;\">\n",
       "      <th></th>\n",
       "      <th>1</th>\n",
       "    </tr>\n",
       "  </thead>\n",
       "  <tbody>\n",
       "    <tr>\n",
       "      <th>abilities</th>\n",
       "      <td>['Overgrow', 'Chlorophyll']</td>\n",
       "    </tr>\n",
       "    <tr>\n",
       "      <th>against_bug</th>\n",
       "      <td>1.0</td>\n",
       "    </tr>\n",
       "    <tr>\n",
       "      <th>against_dark</th>\n",
       "      <td>1.0</td>\n",
       "    </tr>\n",
       "    <tr>\n",
       "      <th>against_dragon</th>\n",
       "      <td>1.0</td>\n",
       "    </tr>\n",
       "    <tr>\n",
       "      <th>against_electric</th>\n",
       "      <td>0.5</td>\n",
       "    </tr>\n",
       "    <tr>\n",
       "      <th>against_fairy</th>\n",
       "      <td>0.5</td>\n",
       "    </tr>\n",
       "    <tr>\n",
       "      <th>against_fight</th>\n",
       "      <td>0.5</td>\n",
       "    </tr>\n",
       "    <tr>\n",
       "      <th>against_fire</th>\n",
       "      <td>2.0</td>\n",
       "    </tr>\n",
       "    <tr>\n",
       "      <th>against_flying</th>\n",
       "      <td>2.0</td>\n",
       "    </tr>\n",
       "    <tr>\n",
       "      <th>against_ghost</th>\n",
       "      <td>1.0</td>\n",
       "    </tr>\n",
       "    <tr>\n",
       "      <th>against_grass</th>\n",
       "      <td>0.25</td>\n",
       "    </tr>\n",
       "    <tr>\n",
       "      <th>against_ground</th>\n",
       "      <td>1.0</td>\n",
       "    </tr>\n",
       "    <tr>\n",
       "      <th>against_ice</th>\n",
       "      <td>2.0</td>\n",
       "    </tr>\n",
       "    <tr>\n",
       "      <th>against_normal</th>\n",
       "      <td>1.0</td>\n",
       "    </tr>\n",
       "    <tr>\n",
       "      <th>against_poison</th>\n",
       "      <td>1.0</td>\n",
       "    </tr>\n",
       "    <tr>\n",
       "      <th>against_psychic</th>\n",
       "      <td>2.0</td>\n",
       "    </tr>\n",
       "    <tr>\n",
       "      <th>against_rock</th>\n",
       "      <td>1.0</td>\n",
       "    </tr>\n",
       "    <tr>\n",
       "      <th>against_steel</th>\n",
       "      <td>1.0</td>\n",
       "    </tr>\n",
       "    <tr>\n",
       "      <th>against_water</th>\n",
       "      <td>0.5</td>\n",
       "    </tr>\n",
       "    <tr>\n",
       "      <th>attack</th>\n",
       "      <td>62</td>\n",
       "    </tr>\n",
       "    <tr>\n",
       "      <th>base_egg_steps</th>\n",
       "      <td>5120</td>\n",
       "    </tr>\n",
       "    <tr>\n",
       "      <th>base_happiness</th>\n",
       "      <td>70</td>\n",
       "    </tr>\n",
       "    <tr>\n",
       "      <th>base_total</th>\n",
       "      <td>405</td>\n",
       "    </tr>\n",
       "    <tr>\n",
       "      <th>capture_rate</th>\n",
       "      <td>45</td>\n",
       "    </tr>\n",
       "    <tr>\n",
       "      <th>classfication</th>\n",
       "      <td>Seed Pokémon</td>\n",
       "    </tr>\n",
       "    <tr>\n",
       "      <th>defense</th>\n",
       "      <td>63</td>\n",
       "    </tr>\n",
       "    <tr>\n",
       "      <th>experience_growth</th>\n",
       "      <td>1059860</td>\n",
       "    </tr>\n",
       "    <tr>\n",
       "      <th>height_m</th>\n",
       "      <td>1.0</td>\n",
       "    </tr>\n",
       "    <tr>\n",
       "      <th>hp</th>\n",
       "      <td>60</td>\n",
       "    </tr>\n",
       "    <tr>\n",
       "      <th>japanese_name</th>\n",
       "      <td>Fushigisouフシギソウ</td>\n",
       "    </tr>\n",
       "    <tr>\n",
       "      <th>name</th>\n",
       "      <td>Ivysaur</td>\n",
       "    </tr>\n",
       "    <tr>\n",
       "      <th>percentage_male</th>\n",
       "      <td>88.1</td>\n",
       "    </tr>\n",
       "    <tr>\n",
       "      <th>pokedex_number</th>\n",
       "      <td>2</td>\n",
       "    </tr>\n",
       "    <tr>\n",
       "      <th>sp_attack</th>\n",
       "      <td>80</td>\n",
       "    </tr>\n",
       "    <tr>\n",
       "      <th>sp_defense</th>\n",
       "      <td>80</td>\n",
       "    </tr>\n",
       "    <tr>\n",
       "      <th>speed</th>\n",
       "      <td>60</td>\n",
       "    </tr>\n",
       "    <tr>\n",
       "      <th>type1</th>\n",
       "      <td>grass</td>\n",
       "    </tr>\n",
       "    <tr>\n",
       "      <th>type2</th>\n",
       "      <td>poison</td>\n",
       "    </tr>\n",
       "    <tr>\n",
       "      <th>weight_kg</th>\n",
       "      <td>13.0</td>\n",
       "    </tr>\n",
       "    <tr>\n",
       "      <th>generation</th>\n",
       "      <td>1</td>\n",
       "    </tr>\n",
       "    <tr>\n",
       "      <th>is_legendary</th>\n",
       "      <td>0</td>\n",
       "    </tr>\n",
       "  </tbody>\n",
       "</table>\n",
       "</div>"
      ],
      "text/plain": [
       "                                             1\n",
       "abilities          ['Overgrow', 'Chlorophyll']\n",
       "against_bug                                1.0\n",
       "against_dark                               1.0\n",
       "against_dragon                             1.0\n",
       "against_electric                           0.5\n",
       "against_fairy                              0.5\n",
       "against_fight                              0.5\n",
       "against_fire                               2.0\n",
       "against_flying                             2.0\n",
       "against_ghost                              1.0\n",
       "against_grass                             0.25\n",
       "against_ground                             1.0\n",
       "against_ice                                2.0\n",
       "against_normal                             1.0\n",
       "against_poison                             1.0\n",
       "against_psychic                            2.0\n",
       "against_rock                               1.0\n",
       "against_steel                              1.0\n",
       "against_water                              0.5\n",
       "attack                                      62\n",
       "base_egg_steps                            5120\n",
       "base_happiness                              70\n",
       "base_total                                 405\n",
       "capture_rate                                45\n",
       "classfication                     Seed Pokémon\n",
       "defense                                     63\n",
       "experience_growth                      1059860\n",
       "height_m                                   1.0\n",
       "hp                                          60\n",
       "japanese_name                  Fushigisouフシギソウ\n",
       "name                                   Ivysaur\n",
       "percentage_male                           88.1\n",
       "pokedex_number                               2\n",
       "sp_attack                                   80\n",
       "sp_defense                                  80\n",
       "speed                                       60\n",
       "type1                                    grass\n",
       "type2                                   poison\n",
       "weight_kg                                 13.0\n",
       "generation                                   1\n",
       "is_legendary                                 0"
      ]
     },
     "execution_count": 5,
     "metadata": {},
     "output_type": "execute_result"
    }
   ],
   "source": [
    "pd.DataFrame.transpose(Ivysaur)\n"
   ]
  },
  {
   "cell_type": "code",
   "execution_count": 6,
   "id": "08d9ef2f",
   "metadata": {
    "scrolled": true
   },
   "outputs": [
    {
     "data": {
      "text/html": [
       "<div>\n",
       "<style scoped>\n",
       "    .dataframe tbody tr th:only-of-type {\n",
       "        vertical-align: middle;\n",
       "    }\n",
       "\n",
       "    .dataframe tbody tr th {\n",
       "        vertical-align: top;\n",
       "    }\n",
       "\n",
       "    .dataframe thead th {\n",
       "        text-align: right;\n",
       "    }\n",
       "</style>\n",
       "<table border=\"1\" class=\"dataframe\">\n",
       "  <thead>\n",
       "    <tr style=\"text-align: right;\">\n",
       "      <th></th>\n",
       "      <th>Missing data</th>\n",
       "      <th>%</th>\n",
       "    </tr>\n",
       "  </thead>\n",
       "  <tbody>\n",
       "    <tr>\n",
       "      <th>type2</th>\n",
       "      <td>384</td>\n",
       "      <td>47.9</td>\n",
       "    </tr>\n",
       "    <tr>\n",
       "      <th>percentage_male</th>\n",
       "      <td>98</td>\n",
       "      <td>12.2</td>\n",
       "    </tr>\n",
       "    <tr>\n",
       "      <th>weight_kg</th>\n",
       "      <td>20</td>\n",
       "      <td>2.5</td>\n",
       "    </tr>\n",
       "    <tr>\n",
       "      <th>height_m</th>\n",
       "      <td>20</td>\n",
       "      <td>2.5</td>\n",
       "    </tr>\n",
       "  </tbody>\n",
       "</table>\n",
       "</div>"
      ],
      "text/plain": [
       "                 Missing data     %\n",
       "type2                     384  47.9\n",
       "percentage_male            98  12.2\n",
       "weight_kg                  20   2.5\n",
       "height_m                   20   2.5"
      ]
     },
     "execution_count": 6,
     "metadata": {},
     "output_type": "execute_result"
    }
   ],
   "source": [
    "total_miss = df.isnull().sum().sort_values(ascending=False)\n",
    "miss = round(df.isnull().sum()/df.isnull().count()*100,1).sort_values(ascending=False)\n",
    "missing_data = pd.concat([total_miss, miss], axis=1, keys=['Missing data', '%'])\n",
    "missing_data = missing_data[missing_data['Missing data']>0]\n",
    "missing_data"
   ]
  },
  {
   "cell_type": "code",
   "execution_count": 7,
   "id": "86296db5",
   "metadata": {},
   "outputs": [
    {
     "data": {
      "image/png": "[encoded data removed]",
      "text/plain": [
       "<Figure size 842.4x595.44 with 1 Axes>"
      ]
     },
     "metadata": {},
     "output_type": "display_data"
    }
   ],
   "source": [
    "missing_data = missing_data[missing_data['Missing data']>0]\n",
    "\n",
    "sns.set(rc={'figure.figsize':(11.7,8.27)})\n",
    "sns.set_theme(style=\"whitegrid\")\n",
    "ax = sns.barplot(x=missing_data.index, y=\"Missing data\", data=missing_data)\n"
   ]
  },
  {
   "cell_type": "code",
   "execution_count": 8,
   "id": "268476d4",
   "metadata": {
    "scrolled": true
   },
   "outputs": [
    {
     "data": {
      "text/plain": [
       "(801, 41)"
      ]
     },
     "execution_count": 8,
     "metadata": {},
     "output_type": "execute_result"
    }
   ],
   "source": [
    "df.shape"
   ]
  },
  {
   "cell_type": "code",
   "execution_count": 9,
   "id": "51ae581c",
   "metadata": {
    "scrolled": true
   },
   "outputs": [
    {
     "data": {
      "text/plain": [
       "array([ 88.1,  50. ,   0. , 100. ,  24.6,  75.4,   nan,  11.2])"
      ]
     },
     "execution_count": 9,
     "metadata": {},
     "output_type": "execute_result"
    }
   ],
   "source": [
    "df['percentage_male'].unique()"
   ]
  },
  {
   "cell_type": "code",
   "execution_count": 10,
   "id": "44a1b6f2",
   "metadata": {},
   "outputs": [],
   "source": [
    "df1 =df[['percentage_male','is_legendary']]"
   ]
  },
  {
   "cell_type": "code",
   "execution_count": 11,
   "id": "f0b96f11",
   "metadata": {},
   "outputs": [],
   "source": [
    "is_legendary = df1[df1['is_legendary'] ==1]\n",
    "not_legendary = df1[df1['is_legendary'] ==0]\n",
    "gen = is_legendary.groupby([is_legendary['percentage_male']]).count()\n",
    "gen1 = not_legendary.groupby([not_legendary['percentage_male']]).count()\n",
    "gen = pd.DataFrame({'percentage_male': [0.0, 11.2, 24.6, 50.0, 75.4, 88.1, 100.0], \n",
    "    'is_legendary': [2, 0, 0, 1, 0, 0, 4],\n",
    "    'not_legendary': [25, 2, 24, 500, 19, 111, 15]})"
   ]
  },
  {
   "cell_type": "code",
   "execution_count": 13,
   "id": "82ace13f",
   "metadata": {
    "scrolled": true
   },
   "outputs": [
    {
     "data": {
      "text/plain": [
       "<seaborn.axisgrid.FacetGrid at 0x7fd1abc21f70>"
      ]
     },
     "execution_count": 13,
     "metadata": {},
     "output_type": "execute_result"
    },
    {
     "data": {
      "image/png": "[encoded data removed]",
      "text/plain": [
       "<Figure size 436.675x360 with 1 Axes>"
      ]
     },
     "metadata": {},
     "output_type": "display_data"
    }
   ],
   "source": [
    "sns.catplot(data=df,kind='count',x='percentage_male',hue='is_legendary')\n"
   ]
  },
  {
   "cell_type": "code",
   "execution_count": 14,
   "id": "b0b9e436",
   "metadata": {},
   "outputs": [
    {
     "data": {
      "image/png": "[encoded data removed]",
      "text/plain": [
       "<Figure size 842.4x595.44 with 1 Axes>"
      ]
     },
     "metadata": {},
     "output_type": "display_data"
    }
   ],
   "source": [
    "ax = sns.barplot(x=gen.percentage_male, y=\"not_legendary\", data=gen)\n"
   ]
  },
  {
   "cell_type": "code",
   "execution_count": 15,
   "id": "e722fee8",
   "metadata": {
    "scrolled": true
   },
   "outputs": [
    {
     "data": {
      "image/png": "[encoded data removed]",
      "text/plain": [
       "<Figure size 842.4x595.44 with 1 Axes>"
      ]
     },
     "metadata": {},
     "output_type": "display_data"
    }
   ],
   "source": [
    "ax = sns.barplot(x=gen.percentage_male, y=\"is_legendary\", data=gen)\n"
   ]
  },
  {
   "cell_type": "code",
   "execution_count": 16,
   "id": "2043853e",
   "metadata": {},
   "outputs": [
    {
     "data": {
      "text/plain": [
       "Float64Index([0.0, 11.2, 24.6, 50.0, 75.4, 88.1, 100.0], dtype='float64', name='percentage_male')"
      ]
     },
     "execution_count": 16,
     "metadata": {},
     "output_type": "execute_result"
    }
   ],
   "source": [
    "gen1.index"
   ]
  },
  {
   "cell_type": "code",
   "execution_count": 8,
   "id": "b2845945",
   "metadata": {},
   "outputs": [
    {
     "name": "stderr",
     "output_type": "stream",
     "text": [
      "/Users/jiangtao/opt/anaconda3/lib/python3.9/site-packages/seaborn/axisgrid.py:1209: UserWarning: The `size` parameter has been renamed to `height`; please update your code.\n",
      "  warnings.warn(UserWarning(msg))\n"
     ]
    },
    {
     "data": {
      "text/plain": [
       "<seaborn.axisgrid.PairGrid at 0x7f817b553490>"
      ]
     },
     "execution_count": 8,
     "metadata": {},
     "output_type": "execute_result"
    },
    {
     "data": {
      "image/png": "[encoded data removed]",
      "text/plain": [
       "<Figure size 504x504 with 1 Axes>"
      ]
     },
     "metadata": {},
     "output_type": "display_data"
    }
   ],
   "source": [
    "import seaborn as sns\n",
    "sns.set(style=\"whitegrid\")\n",
    "g = sns.PairGrid(data = df, x_vars='percentage_male', y_vars = 'is_legendary', size=7)\n",
    "g.map(sns.pointplot, color=sns.xkcd_rgb['red'])\n",
    "g.set(ylim=(0, 0.5))"
   ]
  },
  {
   "cell_type": "code",
   "execution_count": 9,
   "id": "3081e101",
   "metadata": {},
   "outputs": [],
   "source": [
    "#Columns Dropping\n",
    "#Abilities\n",
    "#Classification\n",
    "#Japanese_Name\n",
    "#Percentage_Male\n",
    "#Pokedex\n",
    "#Generation"
   ]
  },
  {
   "cell_type": "code",
   "execution_count": 10,
   "id": "69541992",
   "metadata": {},
   "outputs": [],
   "source": [
    "df = df.drop(columns=['abilities', 'classfication','japanese_name', 'percentage_male', 'pokedex_number', 'generation'])"
   ]
  },
  {
   "cell_type": "code",
   "execution_count": 11,
   "id": "f5bc1256",
   "metadata": {},
   "outputs": [],
   "source": [
    "#Changing Capture Rate to Percentage"
   ]
  },
  {
   "cell_type": "code",
   "execution_count": 12,
   "id": "7031d49c",
   "metadata": {},
   "outputs": [],
   "source": [
    "#Changing all missing values\n",
    "#Type 2 null values to 'none'\n",
    "#Weight null values to 0\n",
    "#Heigh null values to 0\n"
   ]
  },
  {
   "cell_type": "code",
   "execution_count": 13,
   "id": "d68df583",
   "metadata": {},
   "outputs": [],
   "source": [
    "df['type2'] = df['type2'].fillna('none')\n",
    "df['weight_kg'] = df['weight_kg'].fillna(0)\n",
    "df['height_m'] = df['height_m'].fillna(0)"
   ]
  },
  {
   "cell_type": "code",
   "execution_count": 14,
   "id": "b84f99ca",
   "metadata": {},
   "outputs": [
    {
     "data": {
      "text/plain": [
       "array(['45', '255', '120', '127', '90', '190', '75', '235', '150', '25',\n",
       "       '170', '50', '200', '100', '180', '60', '225', '30', '35', '3',\n",
       "       '65', '70', '125', '205', '155', '145', '130', '140', '15', '220',\n",
       "       '160', '80', '55', '30 (Meteorite)255 (Core)'], dtype=object)"
      ]
     },
     "execution_count": 14,
     "metadata": {},
     "output_type": "execute_result"
    }
   ],
   "source": [
    "# Abnormal entry in capture_rate column\n",
    "df['capture_rate'].unique()"
   ]
  },
  {
   "cell_type": "code",
   "execution_count": 15,
   "id": "dbe25b65",
   "metadata": {},
   "outputs": [
    {
     "data": {
      "text/html": [
       "<div>\n",
       "<style scoped>\n",
       "    .dataframe tbody tr th:only-of-type {\n",
       "        vertical-align: middle;\n",
       "    }\n",
       "\n",
       "    .dataframe tbody tr th {\n",
       "        vertical-align: top;\n",
       "    }\n",
       "\n",
       "    .dataframe thead th {\n",
       "        text-align: right;\n",
       "    }\n",
       "</style>\n",
       "<table border=\"1\" class=\"dataframe\">\n",
       "  <thead>\n",
       "    <tr style=\"text-align: right;\">\n",
       "      <th></th>\n",
       "      <th>against_bug</th>\n",
       "      <th>against_dark</th>\n",
       "      <th>against_dragon</th>\n",
       "      <th>against_electric</th>\n",
       "      <th>against_fairy</th>\n",
       "      <th>against_fight</th>\n",
       "      <th>against_fire</th>\n",
       "      <th>against_flying</th>\n",
       "      <th>against_ghost</th>\n",
       "      <th>against_grass</th>\n",
       "      <th>against_ground</th>\n",
       "      <th>against_ice</th>\n",
       "      <th>against_normal</th>\n",
       "      <th>against_poison</th>\n",
       "      <th>against_psychic</th>\n",
       "      <th>against_rock</th>\n",
       "      <th>against_steel</th>\n",
       "      <th>against_water</th>\n",
       "      <th>attack</th>\n",
       "      <th>base_egg_steps</th>\n",
       "      <th>base_happiness</th>\n",
       "      <th>base_total</th>\n",
       "      <th>capture_rate</th>\n",
       "      <th>defense</th>\n",
       "      <th>experience_growth</th>\n",
       "      <th>height_m</th>\n",
       "      <th>hp</th>\n",
       "      <th>name</th>\n",
       "      <th>sp_attack</th>\n",
       "      <th>sp_defense</th>\n",
       "      <th>speed</th>\n",
       "      <th>type1</th>\n",
       "      <th>type2</th>\n",
       "      <th>weight_kg</th>\n",
       "      <th>is_legendary</th>\n",
       "    </tr>\n",
       "  </thead>\n",
       "  <tbody>\n",
       "    <tr>\n",
       "      <th>773</th>\n",
       "      <td>0.5</td>\n",
       "      <td>1.0</td>\n",
       "      <td>1.0</td>\n",
       "      <td>2.0</td>\n",
       "      <td>1.0</td>\n",
       "      <td>1.0</td>\n",
       "      <td>0.5</td>\n",
       "      <td>0.5</td>\n",
       "      <td>1.0</td>\n",
       "      <td>1.0</td>\n",
       "      <td>0.0</td>\n",
       "      <td>2.0</td>\n",
       "      <td>0.5</td>\n",
       "      <td>0.5</td>\n",
       "      <td>1.0</td>\n",
       "      <td>2.0</td>\n",
       "      <td>2.0</td>\n",
       "      <td>2.0</td>\n",
       "      <td>100</td>\n",
       "      <td>6400</td>\n",
       "      <td>70</td>\n",
       "      <td>500</td>\n",
       "      <td>30 (Meteorite)255 (Core)</td>\n",
       "      <td>60</td>\n",
       "      <td>1059860</td>\n",
       "      <td>0.3</td>\n",
       "      <td>60</td>\n",
       "      <td>Minior</td>\n",
       "      <td>100</td>\n",
       "      <td>60</td>\n",
       "      <td>120</td>\n",
       "      <td>rock</td>\n",
       "      <td>flying</td>\n",
       "      <td>40.0</td>\n",
       "      <td>0</td>\n",
       "    </tr>\n",
       "  </tbody>\n",
       "</table>\n",
       "</div>"
      ],
      "text/plain": [
       "     against_bug  against_dark  against_dragon  against_electric  \\\n",
       "773          0.5           1.0             1.0               2.0   \n",
       "\n",
       "     against_fairy  against_fight  against_fire  against_flying  \\\n",
       "773            1.0            1.0           0.5             0.5   \n",
       "\n",
       "     against_ghost  against_grass  against_ground  against_ice  \\\n",
       "773            1.0            1.0             0.0          2.0   \n",
       "\n",
       "     against_normal  against_poison  against_psychic  against_rock  \\\n",
       "773             0.5             0.5              1.0           2.0   \n",
       "\n",
       "     against_steel  against_water  attack  base_egg_steps  base_happiness  \\\n",
       "773            2.0            2.0     100            6400              70   \n",
       "\n",
       "     base_total              capture_rate  defense  experience_growth  \\\n",
       "773         500  30 (Meteorite)255 (Core)       60            1059860   \n",
       "\n",
       "     height_m  hp    name  sp_attack  sp_defense  speed type1   type2  \\\n",
       "773       0.3  60  Minior        100          60    120  rock  flying   \n",
       "\n",
       "     weight_kg  is_legendary  \n",
       "773       40.0             0  "
      ]
     },
     "execution_count": 15,
     "metadata": {},
     "output_type": "execute_result"
    }
   ],
   "source": [
    "df.loc[df['capture_rate'] == '30 (Meteorite)255 (Core)']"
   ]
  },
  {
   "cell_type": "code",
   "execution_count": 16,
   "id": "3a728b5a",
   "metadata": {},
   "outputs": [],
   "source": [
    "df['capture_rate'] = df['capture_rate'].replace(['30 (Meteorite)255 (Core)'],30)"
   ]
  },
  {
   "cell_type": "code",
   "execution_count": 17,
   "id": "1b8157d6",
   "metadata": {
    "scrolled": true
   },
   "outputs": [],
   "source": [
    "df['capture_rate'] = df['capture_rate'].astype(int)"
   ]
  },
  {
   "cell_type": "code",
   "execution_count": 18,
   "id": "1c13c7d9",
   "metadata": {},
   "outputs": [],
   "source": [
    "df['capture_rate'] = df['capture_rate']/100"
   ]
  },
  {
   "cell_type": "code",
   "execution_count": 19,
   "id": "44601c7d",
   "metadata": {},
   "outputs": [
    {
     "data": {
      "text/plain": [
       "0      0.45\n",
       "1      0.45\n",
       "2      0.45\n",
       "3      0.45\n",
       "4      0.45\n",
       "       ... \n",
       "796    0.25\n",
       "797    2.55\n",
       "798    0.15\n",
       "799    0.03\n",
       "800    0.03\n",
       "Name: capture_rate, Length: 801, dtype: float64"
      ]
     },
     "execution_count": 19,
     "metadata": {},
     "output_type": "execute_result"
    }
   ],
   "source": [
    "df['capture_rate']"
   ]
  },
  {
   "cell_type": "code",
   "execution_count": null,
   "id": "746dadbd",
   "metadata": {},
   "outputs": [],
   "source": [
    "# Check before Export"
   ]
  },
  {
   "cell_type": "code",
   "execution_count": 20,
   "id": "751f4d20",
   "metadata": {},
   "outputs": [
    {
     "name": "stdout",
     "output_type": "stream",
     "text": [
      "<class 'pandas.core.frame.DataFrame'>\n",
      "RangeIndex: 801 entries, 0 to 800\n",
      "Data columns (total 35 columns):\n",
      " #   Column             Non-Null Count  Dtype  \n",
      "---  ------             --------------  -----  \n",
      " 0   against_bug        801 non-null    float64\n",
      " 1   against_dark       801 non-null    float64\n",
      " 2   against_dragon     801 non-null    float64\n",
      " 3   against_electric   801 non-null    float64\n",
      " 4   against_fairy      801 non-null    float64\n",
      " 5   against_fight      801 non-null    float64\n",
      " 6   against_fire       801 non-null    float64\n",
      " 7   against_flying     801 non-null    float64\n",
      " 8   against_ghost      801 non-null    float64\n",
      " 9   against_grass      801 non-null    float64\n",
      " 10  against_ground     801 non-null    float64\n",
      " 11  against_ice        801 non-null    float64\n",
      " 12  against_normal     801 non-null    float64\n",
      " 13  against_poison     801 non-null    float64\n",
      " 14  against_psychic    801 non-null    float64\n",
      " 15  against_rock       801 non-null    float64\n",
      " 16  against_steel      801 non-null    float64\n",
      " 17  against_water      801 non-null    float64\n",
      " 18  attack             801 non-null    int64  \n",
      " 19  base_egg_steps     801 non-null    int64  \n",
      " 20  base_happiness     801 non-null    int64  \n",
      " 21  base_total         801 non-null    int64  \n",
      " 22  capture_rate       801 non-null    float64\n",
      " 23  defense            801 non-null    int64  \n",
      " 24  experience_growth  801 non-null    int64  \n",
      " 25  height_m           801 non-null    float64\n",
      " 26  hp                 801 non-null    int64  \n",
      " 27  name               801 non-null    object \n",
      " 28  sp_attack          801 non-null    int64  \n",
      " 29  sp_defense         801 non-null    int64  \n",
      " 30  speed              801 non-null    int64  \n",
      " 31  type1              801 non-null    object \n",
      " 32  type2              801 non-null    object \n",
      " 33  weight_kg          801 non-null    float64\n",
      " 34  is_legendary       801 non-null    int64  \n",
      "dtypes: float64(21), int64(11), object(3)\n",
      "memory usage: 219.1+ KB\n"
     ]
    }
   ],
   "source": [
    "df.info()"
   ]
  },
  {
   "cell_type": "code",
   "execution_count": 21,
   "id": "ea8d1bdf",
   "metadata": {},
   "outputs": [
    {
     "data": {
      "text/plain": [
       "against_bug          0\n",
       "against_dark         0\n",
       "against_dragon       0\n",
       "against_electric     0\n",
       "against_fairy        0\n",
       "against_fight        0\n",
       "against_fire         0\n",
       "against_flying       0\n",
       "against_ghost        0\n",
       "against_grass        0\n",
       "against_ground       0\n",
       "against_ice          0\n",
       "against_normal       0\n",
       "against_poison       0\n",
       "against_psychic      0\n",
       "against_rock         0\n",
       "against_steel        0\n",
       "against_water        0\n",
       "attack               0\n",
       "base_egg_steps       0\n",
       "base_happiness       0\n",
       "base_total           0\n",
       "capture_rate         0\n",
       "defense              0\n",
       "experience_growth    0\n",
       "height_m             0\n",
       "hp                   0\n",
       "name                 0\n",
       "sp_attack            0\n",
       "sp_defense           0\n",
       "speed                0\n",
       "type1                0\n",
       "type2                0\n",
       "weight_kg            0\n",
       "is_legendary         0\n",
       "dtype: int64"
      ]
     },
     "execution_count": 21,
     "metadata": {},
     "output_type": "execute_result"
    }
   ],
   "source": [
    "df.isnull().sum()"
   ]
  },
  {
   "cell_type": "code",
   "execution_count": 22,
   "id": "6f2795a1",
   "metadata": {},
   "outputs": [],
   "source": [
    "# Export"
   ]
  },
  {
   "cell_type": "code",
   "execution_count": 25,
   "id": "8dcf46c3",
   "metadata": {},
   "outputs": [],
   "source": [
    "df.to_csv('Pokemon_cleaned.csv')"
   ]
  }
 ],
 "metadata": {
  "kernelspec": {
   "display_name": "Python 3",
   "language": "python",
   "name": "python3"
  },
  "language_info": {
   "codemirror_mode": {
    "name": "ipython",
    "version": 3
   },
   "file_extension": ".py",
   "mimetype": "text/x-python",
   "name": "python",
   "nbconvert_exporter": "python",
   "pygments_lexer": "ipython3",
   "version": "3.8.8"
  }
 },
 "nbformat": 4,
 "nbformat_minor": 5
}
